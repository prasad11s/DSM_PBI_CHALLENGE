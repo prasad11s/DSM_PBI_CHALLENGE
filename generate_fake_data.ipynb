{
 "cells": [
  {
   "cell_type": "code",
   "execution_count": 3,
   "id": "76d73f3e-a62f-43c2-8680-824f9f81ab8b",
   "metadata": {},
   "outputs": [
    {
     "name": "stdout",
     "output_type": "stream",
     "text": [
      "Collecting faker\n",
      "  Downloading Faker-19.6.1-py3-none-any.whl (1.7 MB)\n",
      "Requirement already satisfied: python-dateutil>=2.4 in c:\\users\\prasad\\anaconda3\\lib\\site-packages (from faker) (2.8.2)\n",
      "Requirement already satisfied: six>=1.5 in c:\\users\\prasad\\anaconda3\\lib\\site-packages (from python-dateutil>=2.4->faker) (1.16.0)\n",
      "Installing collected packages: faker\n",
      "Successfully installed faker-19.6.1\n",
      "Note: you may need to restart the kernel to use updated packages.\n"
     ]
    }
   ],
   "source": [
    "pip install faker"
   ]
  },
  {
   "cell_type": "markdown",
   "id": "d4b05a6e-2097-4ff5-bbdc-6aac9d7f4087",
   "metadata": {},
   "source": [
    "Retail Dataset"
   ]
  },
  {
   "cell_type": "code",
   "execution_count": 5,
   "id": "8a7d37d9-c348-4f7c-9cb5-af88b980ccd1",
   "metadata": {},
   "outputs": [],
   "source": [
    "import pandas as pd\n",
    "import numpy as np\n",
    "\n",
    "# Setting a random seed for reproducibility\n",
    "np.random.seed(42)\n",
    "\n",
    "# Generate a date range for the monthly data (for 3 years to get a good amount of data)\n",
    "date_range = pd.date_range(start='2020-01-01', end='2022-12-31', freq='M')\n",
    "\n",
    "# Number of rows (one for each month)\n",
    "num_rows = len(date_range)\n",
    "\n",
    "# Generate random data for each KPI metric\n",
    "data = {\n",
    "    'Date': date_range,\n",
    "    'Monthly Sales': np.random.randint(100000, 200000, size=num_rows),\n",
    "    'Average Transaction Value': np.random.randint(50, 200, size=num_rows),\n",
    "    'Customer Retention Rate': np.random.uniform(0.5, 0.9, size=num_rows),\n",
    "    'New Customers Acquired': np.random.randint(100, 1000, size=num_rows),\n",
    "}\n",
    "\n",
    "# Create a DataFrame from the data\n",
    "df = pd.DataFrame(data)\n",
    "\n",
    "# Generate random data for product category sales\n",
    "product_categories = ['Electronics', 'Furniture', 'Groceries', 'Clothing', 'Accessories']\n",
    "for category in product_categories:\n",
    "    df[f'{category} Sales'] = np.random.randint(10000, 50000, size=num_rows)\n",
    "\n",
    "# Generate random data for customer demographics\n",
    "demographics = {\n",
    "    'Age 18-25': np.random.randint(50, 200, size=num_rows),\n",
    "    'Age 26-35': np.random.randint(100, 300, size=num_rows),\n",
    "    'Age 36-45': np.random.randint(80, 250, size=num_rows),\n",
    "    'Age 46-60': np.random.randint(60, 200, size=num_rows),\n",
    "    'Age 60+': np.random.randint(30, 100, size=num_rows),\n",
    "    'Male': np.random.randint(100, 500, size=num_rows),\n",
    "    'Female': np.random.randint(100, 500, size=num_rows),\n",
    "    'Other': np.random.randint(10, 50, size=num_rows),\n",
    "}\n",
    "for demo, values in demographics.items():\n",
    "    df[demo] = values\n",
    "\n",
    "# Generate random data for peak shopping hours\n",
    "peak_hours = ['Morning (6-12)', 'Afternoon (12-18)', 'Evening (18-24)', 'Night (0-6)']\n",
    "for hour in peak_hours:\n",
    "    df[hour] = np.random.randint(100, 1000, size=num_rows)\n",
    "\n",
    "# Display the first few rows of the DataFrame\n",
    "df.head()\n",
    "\n",
    "# Save the DataFrame to a CSV file\n",
    "df.to_csv('Retail_Dashboard_Data.csv', index=False)\n"
   ]
  },
  {
   "cell_type": "markdown",
   "id": "111cc845-d1c7-4005-9f1f-f41918299c0e",
   "metadata": {},
   "source": [
    "Finance Dataset"
   ]
  },
  {
   "cell_type": "code",
   "execution_count": 13,
   "id": "0f4cb6a9-d41c-47f0-b28f-2422e0d57c6d",
   "metadata": {},
   "outputs": [],
   "source": [
    "import pandas as pd\n",
    "import numpy as np\n",
    "import random\n",
    "import matplotlib.pyplot as plt\n",
    "from faker import Faker\n",
    "\n",
    "# Initialize Faker for generating fake data\n",
    "fake = Faker()\n",
    "\n",
    "# Generate data for 36 months (3 years)\n",
    "start_date = '2021-01-01'\n",
    "end_date = '2023-12-31'\n",
    "dates = pd.date_range(start=start_date, end=end_date, freq='D')\n",
    "\n",
    "# Initialize an empty DataFrame\n",
    "data = pd.DataFrame({'Month': dates})\n",
    "\n",
    "# Generate Assets Under Management data\n",
    "data['Assets Under Management'] = np.random.randint(1000000, 10000000, size=len(months))\n",
    "\n",
    "# Generate Net Profit Margin data (as a percentage)\n",
    "data['Net Profit Margin'] = np.random.uniform(5, 20, size=len(months))\n",
    "\n",
    "# Generate Customer Churn rate (as a percentage)\n",
    "data['Customer Churn'] = np.random.uniform(1, 10, size=len(months))\n",
    "\n",
    "# Generate Cost Per Acquisition data\n",
    "data['Cost Per Acquisition'] = np.random.randint(100, 1000, size=len(months))\n",
    "\n",
    "# Generate Investment Types data\n",
    "investment_types = ['Stocks', 'Bonds', 'Real Estate', 'Mutual Funds']\n",
    "for inv_type in investment_types:\n",
    "    data[inv_type] = np.random.randint(50000, 500000, size=len(months))\n",
    "\n",
    "# Generate Monthly Inflow and Outflow data\n",
    "data['Monthly Inflow'] = np.random.randint(100000, 500000, size=len(months))\n",
    "data['Monthly Outflow'] = np.random.randint(80000, 450000, size=len(months))\n",
    "\n",
    "# Generate Customer Age data\n",
    "data['Customer Age'] = [fake.random_int(min=18, max=70) for _ in range(len(months))]\n",
    "\n",
    "# Generate Customer Age Group data\n",
    "age_bins = [0, 30, 45, 60, 100]\n",
    "age_labels = ['18-30', '31-45', '46-60', '61+']\n",
    "data['Customer Age Group'] = pd.cut(data['Customer Age'], bins=age_bins, labels=age_labels)\n",
    "\n",
    "# Generate Customer Feedback data\n",
    "feedback_options = ['Excellent', 'Good', 'Neutral', 'Poor']\n",
    "data['Customer Feedback'] = [random.choice(feedback_options) for _ in range(len(months))]\n",
    "\n",
    "# Save the generated data to a CSV file\n",
    "data.to_csv('financial_data.csv', index=False)"
   ]
  },
  {
   "cell_type": "code",
   "execution_count": null,
   "id": "01cfb180-2fdc-42d1-9c07-aa99371dbb0d",
   "metadata": {},
   "outputs": [],
   "source": []
  }
 ],
 "metadata": {
  "kernelspec": {
   "display_name": "Python 3 (ipykernel)",
   "language": "python",
   "name": "python3"
  },
  "language_info": {
   "codemirror_mode": {
    "name": "ipython",
    "version": 3
   },
   "file_extension": ".py",
   "mimetype": "text/x-python",
   "name": "python",
   "nbconvert_exporter": "python",
   "pygments_lexer": "ipython3",
   "version": "3.9.7"
  }
 },
 "nbformat": 4,
 "nbformat_minor": 5
}
