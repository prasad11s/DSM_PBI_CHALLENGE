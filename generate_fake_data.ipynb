{
 "cells": [
  {
   "cell_type": "code",
   "execution_count": 3,
   "id": "76d73f3e-a62f-43c2-8680-824f9f81ab8b",
   "metadata": {},
   "outputs": [
    {
     "name": "stdout",
     "output_type": "stream",
     "text": [
      "Collecting faker\n",
      "  Downloading Faker-19.6.1-py3-none-any.whl (1.7 MB)\n",
      "Requirement already satisfied: python-dateutil>=2.4 in c:\\users\\prasad\\anaconda3\\lib\\site-packages (from faker) (2.8.2)\n",
      "Requirement already satisfied: six>=1.5 in c:\\users\\prasad\\anaconda3\\lib\\site-packages (from python-dateutil>=2.4->faker) (1.16.0)\n",
      "Installing collected packages: faker\n",
      "Successfully installed faker-19.6.1\n",
      "Note: you may need to restart the kernel to use updated packages.\n"
     ]
    }
   ],
   "source": [
    "pip install faker"
   ]
  },
  {
   "cell_type": "code",
   "execution_count": 5,
   "id": "8a7d37d9-c348-4f7c-9cb5-af88b980ccd1",
   "metadata": {},
   "outputs": [],
   "source": [
    "import pandas as pd\n",
    "import numpy as np\n",
    "\n",
    "# Setting a random seed for reproducibility\n",
    "np.random.seed(42)\n",
    "\n",
    "# Generate a date range for the monthly data (for 3 years to get a good amount of data)\n",
    "date_range = pd.date_range(start='2020-01-01', end='2022-12-31', freq='M')\n",
    "\n",
    "# Number of rows (one for each month)\n",
    "num_rows = len(date_range)\n",
    "\n",
    "# Generate random data for each KPI metric\n",
    "data = {\n",
    "    'Date': date_range,\n",
    "    'Monthly Sales': np.random.randint(100000, 200000, size=num_rows),\n",
    "    'Average Transaction Value': np.random.randint(50, 200, size=num_rows),\n",
    "    'Customer Retention Rate': np.random.uniform(0.5, 0.9, size=num_rows),\n",
    "    'New Customers Acquired': np.random.randint(100, 1000, size=num_rows),\n",
    "}\n",
    "\n",
    "# Create a DataFrame from the data\n",
    "df = pd.DataFrame(data)\n",
    "\n",
    "# Generate random data for product category sales\n",
    "product_categories = ['Electronics', 'Furniture', 'Groceries', 'Clothing', 'Accessories']\n",
    "for category in product_categories:\n",
    "    df[f'{category} Sales'] = np.random.randint(10000, 50000, size=num_rows)\n",
    "\n",
    "# Generate random data for customer demographics\n",
    "demographics = {\n",
    "    'Age 18-25': np.random.randint(50, 200, size=num_rows),\n",
    "    'Age 26-35': np.random.randint(100, 300, size=num_rows),\n",
    "    'Age 36-45': np.random.randint(80, 250, size=num_rows),\n",
    "    'Age 46-60': np.random.randint(60, 200, size=num_rows),\n",
    "    'Age 60+': np.random.randint(30, 100, size=num_rows),\n",
    "    'Male': np.random.randint(100, 500, size=num_rows),\n",
    "    'Female': np.random.randint(100, 500, size=num_rows),\n",
    "    'Other': np.random.randint(10, 50, size=num_rows),\n",
    "}\n",
    "for demo, values in demographics.items():\n",
    "    df[demo] = values\n",
    "\n",
    "# Generate random data for peak shopping hours\n",
    "peak_hours = ['Morning (6-12)', 'Afternoon (12-18)', 'Evening (18-24)', 'Night (0-6)']\n",
    "for hour in peak_hours:\n",
    "    df[hour] = np.random.randint(100, 1000, size=num_rows)\n",
    "\n",
    "# Display the first few rows of the DataFrame\n",
    "df.head()\n",
    "\n",
    "# Save the DataFrame to a CSV file\n",
    "df.to_csv('Retail_Dashboard_Data.csv', index=False)\n"
   ]
  },
  {
   "cell_type": "code",
   "execution_count": null,
   "id": "935d7959-5c8a-4d48-aee1-02ac26f8887c",
   "metadata": {},
   "outputs": [],
   "source": []
  }
 ],
 "metadata": {
  "kernelspec": {
   "display_name": "Python 3 (ipykernel)",
   "language": "python",
   "name": "python3"
  },
  "language_info": {
   "codemirror_mode": {
    "name": "ipython",
    "version": 3
   },
   "file_extension": ".py",
   "mimetype": "text/x-python",
   "name": "python",
   "nbconvert_exporter": "python",
   "pygments_lexer": "ipython3",
   "version": "3.9.7"
  }
 },
 "nbformat": 4,
 "nbformat_minor": 5
}
